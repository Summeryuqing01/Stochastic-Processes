{
 "cells": [
  {
   "cell_type": "code",
   "execution_count": 1,
   "id": "a312a2f2",
   "metadata": {},
   "outputs": [],
   "source": [
    "import numpy as np\n",
    "import scipy.linalg\n",
    "from scipy.stats import poisson\n",
    "from numpy.linalg import matrix_power"
   ]
  },
  {
   "cell_type": "code",
   "execution_count": 9,
   "id": "0c6269f4",
   "metadata": {},
   "outputs": [],
   "source": [
    "def EstimatePHat(Q, epsilon, t):\n",
    "    lam = max(abs(np.diag(Q)))\n",
    "    d = len(Q) # dimension of the generator matirx\n",
    "    I = I = np.identity(d)\n",
    "    P = I + np.multiply(Q,1/lam) # transition matrix\n",
    "    M = int(poisson.ppf(1 - epsilon, lam*t)) # getting M for estimation\n",
    "    PHat = np.zeros([d,d]) # estimate\n",
    "    for n in range(0,M+1):\n",
    "        PHat += np.multiply(matrix_power(P, n),poisson.pmf(n,lam*t))\n",
    "    return(PHat)\n",
    "    "
   ]
  },
  {
   "cell_type": "code",
   "execution_count": 10,
   "id": "493b2e70",
   "metadata": {},
   "outputs": [],
   "source": [
    "Q = np.array([[-3, 2, 1],[1, -2, 1],[2, 1, -3]]) # generator matrix we use in this example"
   ]
  },
  {
   "cell_type": "code",
   "execution_count": 11,
   "id": "77e4b99a",
   "metadata": {},
   "outputs": [
    {
     "data": {
      "text/plain": [
       "array([[0.30980432, 0.43365893, 0.24770926],\n",
       "       [0.30946886, 0.4339944 , 0.24770926],\n",
       "       [0.31013974, 0.43298804, 0.24804473]])"
      ]
     },
     "execution_count": 11,
     "metadata": {},
     "output_type": "execute_result"
    }
   ],
   "source": [
    "I = np.identity(3)\n",
    "lam = max(abs(np.diag(Q)))\n",
    "P = I + np.multiply(Q,1/lam) # transition matrix of Q\n",
    "EstimatePHat(Q,0.01,2) # esitimate"
   ]
  },
  {
   "cell_type": "code",
   "execution_count": null,
   "id": "62e6b758",
   "metadata": {},
   "outputs": [],
   "source": []
  }
 ],
 "metadata": {
  "kernelspec": {
   "display_name": "Python 3",
   "language": "python",
   "name": "python3"
  },
  "language_info": {
   "codemirror_mode": {
    "name": "ipython",
    "version": 3
   },
   "file_extension": ".py",
   "mimetype": "text/x-python",
   "name": "python",
   "nbconvert_exporter": "python",
   "pygments_lexer": "ipython3",
   "version": "3.8.8"
  }
 },
 "nbformat": 4,
 "nbformat_minor": 5
}
