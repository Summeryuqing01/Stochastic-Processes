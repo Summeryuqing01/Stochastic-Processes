{
 "cells": [
  {
   "cell_type": "code",
   "execution_count": 1,
   "id": "77b3b2ad",
   "metadata": {},
   "outputs": [],
   "source": [
    "# import needed libraries\n",
    "import numpy as np\n",
    "import matplotlib.pyplot as plt\n",
    "import math"
   ]
  },
  {
   "cell_type": "code",
   "execution_count": 3,
   "id": "8a42dbd9",
   "metadata": {},
   "outputs": [],
   "source": [
    "Q = np.matrix([[-1, 0.5, 0.5], [0.5, -1, 0.5], [0.5, 1, -0.5]])"
   ]
  },
  {
   "cell_type": "code",
   "execution_count": 14,
   "id": "6fe15be6",
   "metadata": {},
   "outputs": [],
   "source": [
    "def simCTMC(Q, T, x0):\n",
    "    # simulate a continuous time Markov Chain with transition matrix Q, holding time T and starting state x0\n",
    "    states = range(0, len(Q)) # number of states\n",
    "    XTrajectory = [x0] # document the movement of x between states\n",
    "    xt = x0\n",
    "    times = [0]\n",
    "    timeCount = 0\n",
    "    while (timeCount <= T):\n",
    "        jumpToRates = np.delete(Q[xt,:], xt) # the rate of x jumping to each state\n",
    "        jumpToStates = np.delete(states, xt) # the states where x can jump to next\n",
    "        minClock = math.inf\n",
    "        for state in jumpToStates:\n",
    "            # x jumps to the state where the waiting time is shorter\n",
    "            clock = np.random.exponential(1/Q[xt, state])\n",
    "            if(clock < minClock):\n",
    "                minClock = clock\n",
    "                minState = state\n",
    "        timeCount = timeCount + minClock\n",
    "        if(timeCount <= T):\n",
    "            xt = minState\n",
    "            XTrajectory.append(xt)\n",
    "            times.append(timeCount)\n",
    "        if(timeCount > T):\n",
    "            XTrajectory.append(xt)\n",
    "            times.append(T)\n",
    "    plt.plot(times, XTrajectory, drawstyle = \"steps-post\")\n",
    "        \n",
    "    "
   ]
  },
  {
   "cell_type": "code",
   "execution_count": 15,
   "id": "47aed11a",
   "metadata": {},
   "outputs": [
    {
     "data": {
      "image/png": "[encoded data removed]",
      "text/plain": [
       "<Figure size 432x288 with 1 Axes>"
      ]
     },
     "metadata": {
      "needs_background": "light"
     },
     "output_type": "display_data"
    }
   ],
   "source": [
    "simCTMC(Q, 10, 0)"
   ]
  },
  {
   "cell_type": "code",
   "execution_count": null,
   "id": "a53b9a72",
   "metadata": {},
   "outputs": [],
   "source": []
  }
 ],
 "metadata": {
  "kernelspec": {
   "display_name": "Python 3",
   "language": "python",
   "name": "python3"
  },
  "language_info": {
   "codemirror_mode": {
    "name": "ipython",
    "version": 3
   },
   "file_extension": ".py",
   "mimetype": "text/x-python",
   "name": "python",
   "nbconvert_exporter": "python",
   "pygments_lexer": "ipython3",
   "version": "3.8.8"
  }
 },
 "nbformat": 4,
 "nbformat_minor": 5
}
