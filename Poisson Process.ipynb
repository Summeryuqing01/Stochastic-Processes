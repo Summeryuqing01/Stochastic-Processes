{
 "cells": [
  {
   "cell_type": "code",
   "execution_count": null,
   "id": "11c17b7a",
   "metadata": {},
   "outputs": [],
   "source": [
    "# import needed libries\n",
    "import numpy as np\n",
    "import matplotlib.pyplot as plt"
   ]
  },
  {
   "cell_type": "code",
   "execution_count": null,
   "id": "c52280e8",
   "metadata": {},
   "outputs": [],
   "source": [
    "# generating possion process with lambda > 0, up untile time T\n",
    "def PoissonProcess(lam,T):\n",
    "    timeCount = 0  # the total time that has elapsed after each arrival\n",
    "    val = 0  # value of each poisson process\n",
    "    Nt = [0]   # a list of values of poisson process\n",
    "    times = [0]  # a list that contains the arrival times\n",
    "    while(timeCount <= T):\n",
    "        x = np.random.exponential(1/lam)\n",
    "        timeCount = timeCount + x\n",
    "        if(timeCount <= T):\n",
    "            val = val + 1\n",
    "            Nt.append(val)\n",
    "            times.append(timeCount)\n",
    "        if(timeCount > T):\n",
    "            Nt.append(val)\n",
    "            times.append(T)\n",
    "    return Nt, times"
   ]
  },
  {
   "cell_type": "markdown",
   "id": "603ccbd1",
   "metadata": {},
   "source": [
    "PoissonSim = PoissonProcess(1,10)  # simulate poisson process with lambda = 1 on the time interval [0,1]\n",
    "PoissonSim"
   ]
  },
  {
   "cell_type": "code",
   "execution_count": null,
   "id": "6b477952",
   "metadata": {},
   "outputs": [],
   "source": [
    "# draw the poisson process\n",
    "Nt = PoissonSim[0]\n",
    "times = PoissonSim[1]\n",
    "plt.plot(times, Nt, drawstyle='steps-post')"
   ]
  },
  {
   "cell_type": "code",
   "execution_count": 5,
   "id": "ef5a96c0",
   "metadata": {},
   "outputs": [],
   "source": [
    "# generating a compound possion process with lambda > 0, up untile time T\n",
    "def CompoundPoissonProcess(lam,T,mu,sigma):\n",
    "    timeCount = 0\n",
    "    val = 0\n",
    "    Nt = [0]\n",
    "    times = [0]\n",
    "    while(timeCount <= T):\n",
    "        x = np.random.exponential(1/lam)\n",
    "        timeCount = timeCount + x\n",
    "        if(timeCount <= T):\n",
    "            Z = np.random.normal(mu, sigma)\n",
    "            val = val + np.exp(Z)\n",
    "            Nt.append(val)\n",
    "            times.append(timeCount)\n",
    "        if(timeCount > T):\n",
    "            Nt.append(val)\n",
    "            times.append(T)\n",
    "    return Nt, times"
   ]
  },
  {
   "cell_type": "code",
   "execution_count": null,
   "id": "69523dbb",
   "metadata": {},
   "outputs": [],
   "source": [
    "# plot the compound poisson process with lamda = 1,  mu = 0, sigma = 1 on the time interval [0,10]\n",
    "CompoundPoissonSim = CompoundPoissonProcess(1,10,0,1)\n",
    "CNt = CompoundPoissonSim[0]\n",
    "Ctimes = CompoundPoissonSim[1]\n",
    "plt.plot(Ctimes, CNt, drawstyle='steps-post')"
   ]
  }
 ],
 "metadata": {
  "kernelspec": {
   "display_name": "Python 3",
   "language": "python",
   "name": "python3"
  },
  "language_info": {
   "codemirror_mode": {
    "name": "ipython",
    "version": 3
   },
   "file_extension": ".py",
   "mimetype": "text/x-python",
   "name": "python",
   "nbconvert_exporter": "python",
   "pygments_lexer": "ipython3",
   "version": "3.8.8"
  }
 },
 "nbformat": 4,
 "nbformat_minor": 5
}
